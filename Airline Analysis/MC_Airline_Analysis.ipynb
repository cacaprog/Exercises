{
 "cells": [
  {
   "cell_type": "code",
   "execution_count": 1,
   "metadata": {},
   "outputs": [],
   "source": [
    "import pandas as pd\n",
    "import seaborn as sns\n",
    "import numpy as np\n",
    "import matplotlib.pyplot as plt\n",
    "import math\n",
    "import statsmodels"
   ]
  },
  {
   "cell_type": "code",
   "execution_count": 2,
   "metadata": {},
   "outputs": [
    {
     "name": "stdout",
     "output_type": "stream",
     "text": [
      "<class 'pandas.core.frame.DataFrame'>\n",
      "RangeIndex: 129780 entries, 0 to 129779\n",
      "Data columns (total 12 columns):\n",
      " #   Column                  Non-Null Count   Dtype  \n",
      "---  ------                  --------------   -----  \n",
      " 0   miles                   129780 non-null  int64  \n",
      " 1   passengers              129780 non-null  int64  \n",
      " 2   delay                   129780 non-null  int64  \n",
      " 3   inflight_meal           129780 non-null  object \n",
      " 4   inflight_entertainment  129780 non-null  object \n",
      " 5   inflight_wifi           129780 non-null  object \n",
      " 6   day_of_week             129780 non-null  object \n",
      " 7   redeye                  129780 non-null  object \n",
      " 8   weekend                 129780 non-null  object \n",
      " 9   coach_price             129780 non-null  float64\n",
      " 10  firstclass_price        129780 non-null  float64\n",
      " 11  hours                   129780 non-null  int64  \n",
      "dtypes: float64(2), int64(4), object(6)\n",
      "memory usage: 11.9+ MB\n"
     ]
    }
   ],
   "source": [
    "flights = pd.read_csv(\"F:/Codecademy/Exercises/Airline Analysis/flight.csv\")\n",
    "flights.info()"
   ]
  },
  {
   "cell_type": "code",
   "execution_count": 3,
   "metadata": {},
   "outputs": [
    {
     "data": {
      "text/html": [
       "<div>\n",
       "<style scoped>\n",
       "    .dataframe tbody tr th:only-of-type {\n",
       "        vertical-align: middle;\n",
       "    }\n",
       "\n",
       "    .dataframe tbody tr th {\n",
       "        vertical-align: top;\n",
       "    }\n",
       "\n",
       "    .dataframe thead th {\n",
       "        text-align: right;\n",
       "    }\n",
       "</style>\n",
       "<table border=\"1\" class=\"dataframe\">\n",
       "  <thead>\n",
       "    <tr style=\"text-align: right;\">\n",
       "      <th></th>\n",
       "      <th>miles</th>\n",
       "      <th>passengers</th>\n",
       "      <th>delay</th>\n",
       "      <th>coach_price</th>\n",
       "      <th>firstclass_price</th>\n",
       "      <th>hours</th>\n",
       "    </tr>\n",
       "  </thead>\n",
       "  <tbody>\n",
       "    <tr>\n",
       "      <th>count</th>\n",
       "      <td>129780.000000</td>\n",
       "      <td>129780.000000</td>\n",
       "      <td>129780.000000</td>\n",
       "      <td>129780.000000</td>\n",
       "      <td>129780.000000</td>\n",
       "      <td>129780.000000</td>\n",
       "    </tr>\n",
       "    <tr>\n",
       "      <th>mean</th>\n",
       "      <td>2006.224696</td>\n",
       "      <td>207.723155</td>\n",
       "      <td>13.162845</td>\n",
       "      <td>376.585253</td>\n",
       "      <td>1454.931785</td>\n",
       "      <td>3.631214</td>\n",
       "    </tr>\n",
       "    <tr>\n",
       "      <th>std</th>\n",
       "      <td>943.034768</td>\n",
       "      <td>12.776363</td>\n",
       "      <td>41.941680</td>\n",
       "      <td>67.744274</td>\n",
       "      <td>162.590434</td>\n",
       "      <td>1.739118</td>\n",
       "    </tr>\n",
       "    <tr>\n",
       "      <th>min</th>\n",
       "      <td>12.000000</td>\n",
       "      <td>135.000000</td>\n",
       "      <td>0.000000</td>\n",
       "      <td>44.415000</td>\n",
       "      <td>939.100000</td>\n",
       "      <td>1.000000</td>\n",
       "    </tr>\n",
       "    <tr>\n",
       "      <th>25%</th>\n",
       "      <td>1343.000000</td>\n",
       "      <td>204.000000</td>\n",
       "      <td>9.000000</td>\n",
       "      <td>331.445000</td>\n",
       "      <td>1302.200000</td>\n",
       "      <td>2.000000</td>\n",
       "    </tr>\n",
       "    <tr>\n",
       "      <th>50%</th>\n",
       "      <td>1986.000000</td>\n",
       "      <td>210.000000</td>\n",
       "      <td>10.000000</td>\n",
       "      <td>380.560000</td>\n",
       "      <td>1503.840000</td>\n",
       "      <td>4.000000</td>\n",
       "    </tr>\n",
       "    <tr>\n",
       "      <th>75%</th>\n",
       "      <td>2468.000000</td>\n",
       "      <td>215.000000</td>\n",
       "      <td>13.000000</td>\n",
       "      <td>426.676250</td>\n",
       "      <td>1582.370000</td>\n",
       "      <td>4.000000</td>\n",
       "    </tr>\n",
       "    <tr>\n",
       "      <th>max</th>\n",
       "      <td>4548.000000</td>\n",
       "      <td>244.000000</td>\n",
       "      <td>1560.000000</td>\n",
       "      <td>593.635000</td>\n",
       "      <td>1846.780000</td>\n",
       "      <td>8.000000</td>\n",
       "    </tr>\n",
       "  </tbody>\n",
       "</table>\n",
       "</div>"
      ],
      "text/plain": [
       "               miles     passengers          delay    coach_price  \\\n",
       "count  129780.000000  129780.000000  129780.000000  129780.000000   \n",
       "mean     2006.224696     207.723155      13.162845     376.585253   \n",
       "std       943.034768      12.776363      41.941680      67.744274   \n",
       "min        12.000000     135.000000       0.000000      44.415000   \n",
       "25%      1343.000000     204.000000       9.000000     331.445000   \n",
       "50%      1986.000000     210.000000      10.000000     380.560000   \n",
       "75%      2468.000000     215.000000      13.000000     426.676250   \n",
       "max      4548.000000     244.000000    1560.000000     593.635000   \n",
       "\n",
       "       firstclass_price          hours  \n",
       "count     129780.000000  129780.000000  \n",
       "mean        1454.931785       3.631214  \n",
       "std          162.590434       1.739118  \n",
       "min          939.100000       1.000000  \n",
       "25%         1302.200000       2.000000  \n",
       "50%         1503.840000       4.000000  \n",
       "75%         1582.370000       4.000000  \n",
       "max         1846.780000       8.000000  "
      ]
     },
     "execution_count": 3,
     "metadata": {},
     "output_type": "execute_result"
    }
   ],
   "source": [
    "flights.describe()"
   ]
  },
  {
   "cell_type": "code",
   "execution_count": 4,
   "metadata": {},
   "outputs": [
    {
     "name": "stdout",
     "output_type": "stream",
     "text": [
      "376.5852530821279\n"
     ]
    },
    {
     "data": {
      "text/plain": [
       "380.56"
      ]
     },
     "execution_count": 4,
     "metadata": {},
     "output_type": "execute_result"
    }
   ],
   "source": [
    "print(np.mean(flights.coach_price))\n",
    "np.percentile(flights.coach_price, 50)"
   ]
  },
  {
   "cell_type": "code",
   "execution_count": 5,
   "metadata": {},
   "outputs": [
    {
     "name": "stdout",
     "output_type": "stream",
     "text": [
      "431.8343773728164\n",
      "170.77\n",
      "593.635\n"
     ]
    }
   ],
   "source": [
    "#task 2\n",
    "print(np.mean(flights.coach_price[flights.hours == 8]))\n",
    "print(np.min(flights.coach_price[flights.hours == 8]))\n",
    "print(np.max(flights.coach_price[flights.hours == 8]))\n"
   ]
  },
  {
   "cell_type": "code",
   "execution_count": 6,
   "metadata": {},
   "outputs": [
    {
     "data": {
      "image/png": "[encoded data removed]",
      "text/plain": [
       "<Figure size 432x288 with 1 Axes>"
      ]
     },
     "metadata": {
      "needs_background": "light"
     },
     "output_type": "display_data"
    }
   ],
   "source": [
    "sns.histplot(flights.coach_price[flights.hours == 8])\n",
    "plt.show()"
   ]
  },
  {
   "cell_type": "code",
   "execution_count": 12,
   "metadata": {},
   "outputs": [
    {
     "data": {
      "image/png": "[encoded data removed]",
      "text/plain": [
       "<Figure size 432x288 with 1 Axes>"
      ]
     },
     "metadata": {
      "needs_background": "light"
     },
     "output_type": "display_data"
    }
   ],
   "source": [
    "#task 3\n",
    "plt.clf\n",
    "sns.histplot(flights.delay[flights. delay < 500])\n",
    "\n",
    "plt.show()\n"
   ]
  }
 ],
 "metadata": {
  "kernelspec": {
   "display_name": "Python 3.8.8 ('base')",
   "language": "python",
   "name": "python3"
  },
  "language_info": {
   "codemirror_mode": {
    "name": "ipython",
    "version": 3
   },
   "file_extension": ".py",
   "mimetype": "text/x-python",
   "name": "python",
   "nbconvert_exporter": "python",
   "pygments_lexer": "ipython3",
   "version": "3.8.8"
  },
  "orig_nbformat": 4,
  "vscode": {
   "interpreter": {
    "hash": "a83ba2717698e782395389150a782134e0ff4e363bedc1914fb3ae7fbe5e6a27"
   }
  }
 },
 "nbformat": 4,
 "nbformat_minor": 2
}
