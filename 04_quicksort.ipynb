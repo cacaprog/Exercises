{
 "cells": [
  {
   "cell_type": "markdown",
   "id": "c9ae9145",
   "metadata": {},
   "source": []
  },
  {
   "cell_type": "code",
   "execution_count": 4,
   "id": "20df9c8d",
   "metadata": {},
   "outputs": [
    {
     "name": "stdout",
     "output_type": "stream",
     "text": [
      "10\n"
     ]
    }
   ],
   "source": [
    "#01 soma utilizando looping\n",
    "\n",
    "def sum(arr):\n",
    "  total = 0\n",
    "  for x in arr:\n",
    "    total += x\n",
    "  return total\n",
    "\n",
    "print(sum([1, 2, 3, 4]))"
   ]
  },
  {
   "cell_type": "code",
   "execution_count": null,
   "id": "ef75cb08",
   "metadata": {},
   "outputs": [],
   "source": []
  },
  {
   "cell_type": "code",
   "execution_count": 3,
   "id": "aa2d135a",
   "metadata": {},
   "outputs": [
    {
     "name": "stdout",
     "output_type": "stream",
     "text": [
      "10\n"
     ]
    }
   ],
   "source": [
    "#02 soma utilizando recursive\n",
    "#Write a recursive function to count the number of items in a list.\n",
    "\n",
    "\n",
    "def sum(list):\n",
    "  if list == []:\n",
    "    return 0\n",
    "  return list[0] + sum(list[1:])\n",
    "\n",
    "#aqui, se a lista for vazia, retorna zero, ou se tiver elementos, \n",
    "#retorna o primeiro elemento + a soma do segundo elemento em diante\n",
    "\n",
    "print(sum([1, 2, 3, 4]))"
   ]
  },
  {
   "cell_type": "code",
   "execution_count": 8,
   "id": "bb73a3d0",
   "metadata": {},
   "outputs": [
    {
     "name": "stdout",
     "output_type": "stream",
     "text": [
      "4\n"
     ]
    }
   ],
   "source": [
    "#03 recursive count\n",
    "\n",
    "\n",
    "def count(list):\n",
    "  if list == []:\n",
    "    return 0\n",
    "  return 1 + count(list[1:])\n",
    "\n",
    "#ele considera que se não é uma lista vazia, pode contar a partir do segundo elemento em diante [1:]\n",
    "\n",
    "print(count([1, 2, 3, 4]))"
   ]
  },
  {
   "cell_type": "code",
   "execution_count": 10,
   "id": "3c8a8765",
   "metadata": {},
   "outputs": [
    {
     "name": "stdout",
     "output_type": "stream",
     "text": [
      "75\n"
     ]
    }
   ],
   "source": [
    "#04 Find the maximum number in a list.\n",
    "\n",
    "def max(list):\n",
    "  if len(list) == 2:\n",
    "    return list[0] if list[0] > list[1] else list[1]\n",
    "  sub_max = max(list[1:])\n",
    "  return list[0] if list[0] > sub_max else sub_max\n",
    "\n",
    "print(max([1, 2, 3, 4, 15, 2, 75, 28]))"
   ]
  },
  {
   "cell_type": "code",
   "execution_count": 12,
   "id": "452935d2",
   "metadata": {},
   "outputs": [
    {
     "name": "stdout",
     "output_type": "stream",
     "text": [
      "[2, 3, 5, 10]\n"
     ]
    }
   ],
   "source": [
    "#05 Can you come up with the base case and recursive case for binary search?\n",
    "\n",
    "def quicksort(array):\n",
    "  if len(array) < 2:\n",
    "    # base case, arrays with 0 or 1 element are already \"sorted\"\n",
    "    return array\n",
    "  else:\n",
    "    # recursive case\n",
    "    pivot = array[0]\n",
    "    # sub-array of all the elements less than the pivot\n",
    "    less = [i for i in array[1:] if i <= pivot]\n",
    "    # sub-array of all the elements greater than the pivot\n",
    "    greater = [i for i in array[1:] if i > pivot]\n",
    "    return quicksort(less) + [pivot] + quicksort(greater)\n",
    "\n",
    "print(quicksort([10, 5, 2, 3]))"
   ]
  },
  {
   "cell_type": "code",
   "execution_count": 13,
   "id": "6d3d18c4",
   "metadata": {},
   "outputs": [
    {
     "name": "stdout",
     "output_type": "stream",
     "text": [
      "[3, 4, 10, 12, 54, 73]\n"
     ]
    }
   ],
   "source": [
    "def quicksort(array):\n",
    "    if len(array) < 2:\n",
    "        return array\n",
    "    else:\n",
    "        pivot = array[-1]\n",
    "        less = [i for i in array[:-1] if i <= pivot]\n",
    "        greater = [i for i in array[:-1:] if i > pivot]\n",
    "        return quicksort(less) + [pivot] + quicksort(greater)\n",
    "    \n",
    "print(quicksort([10, 12, 4, 73, 54, 3]))"
   ]
  },
  {
   "cell_type": "code",
   "execution_count": null,
   "id": "91c90997",
   "metadata": {},
   "outputs": [],
   "source": []
  }
 ],
 "metadata": {
  "kernelspec": {
   "display_name": "Python 3 (ipykernel)",
   "language": "python",
   "name": "python3"
  },
  "language_info": {
   "codemirror_mode": {
    "name": "ipython",
    "version": 3
   },
   "file_extension": ".py",
   "mimetype": "text/x-python",
   "name": "python",
   "nbconvert_exporter": "python",
   "pygments_lexer": "ipython3",
   "version": "3.9.7"
  }
 },
 "nbformat": 4,
 "nbformat_minor": 5
}
