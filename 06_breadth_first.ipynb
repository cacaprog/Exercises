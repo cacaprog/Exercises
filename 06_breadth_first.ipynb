{
 "cells": [
  {
   "cell_type": "code",
   "execution_count": 13,
   "metadata": {},
   "outputs": [
    {
     "name": "stdout",
     "output_type": "stream",
     "text": [
      "jonny is a mango seller!\n"
     ]
    },
    {
     "data": {
      "text/plain": [
       "True"
      ]
     },
     "execution_count": 13,
     "metadata": {},
     "output_type": "execute_result"
    }
   ],
   "source": [
    "from collections import deque\n",
    "\n",
    "def person_is_seller(name):\n",
    "      return name[-1] == 'y'\n",
    "\n",
    "graph = {}\n",
    "graph[\"you\"] = [\"alice\", \"bob\", \"claire\"]\n",
    "graph[\"bob\"] = [\"anuj\", \"peggy\"]\n",
    "graph[\"alice\"] = [\"peggy\"]\n",
    "graph[\"claire\"] = [\"thom\", \"jonny\"]\n",
    "graph[\"anuj\"] = []\n",
    "graph[\"peggy\"] = []\n",
    "graph[\"thom\"] = []\n",
    "graph[\"jonny\"] = []\n",
    "\n",
    "def search(name):\n",
    "    search_queue = deque()\n",
    "    search_queue += graph[name]\n",
    "    # This is how you keep track of which people you've searched before.\n",
    "    searched = set()\n",
    "    while search_queue:\n",
    "        person = search_queue.popleft()\n",
    "        # Only search this person if you haven't already searched them.\n",
    "        if person not in searched:\n",
    "            if person_is_seller(person):\n",
    "                print(person + \" is a mango seller!\")\n",
    "                return True\n",
    "            else:\n",
    "                search_queue += graph[person]\n",
    "                # Marks this person as searched\n",
    "                searched.add(person)\n",
    "    return False\n",
    "\n",
    "search(\"claire\")\n"
   ]
  }
 ],
 "metadata": {
  "kernelspec": {
   "display_name": "Python 3.9.7",
   "language": "python",
   "name": "python3"
  },
  "language_info": {
   "codemirror_mode": {
    "name": "ipython",
    "version": 3
   },
   "file_extension": ".py",
   "mimetype": "text/x-python",
   "name": "python",
   "nbconvert_exporter": "python",
   "pygments_lexer": "ipython3",
   "version": "3.9.7"
  },
  "orig_nbformat": 4,
  "vscode": {
   "interpreter": {
    "hash": "000c74b085ed1b68eb2547ece368d530e75095bb94cf8c48469769a097fb0021"
   }
  }
 },
 "nbformat": 4,
 "nbformat_minor": 2
}
